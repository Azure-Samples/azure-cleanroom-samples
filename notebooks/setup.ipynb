{
 "cells": [
  {
   "cell_type": "markdown",
   "metadata": {},
   "source": [
    "# Import Required Libraries\n",
    "Import the necessary libraries, including subprocess for running PowerShell scripts."
   ]
  },
  {
   "cell_type": "code",
   "execution_count": null,
   "metadata": {},
   "outputs": [],
   "source": [
    "# Import Required Libraries\n",
    "import subprocess  # Import subprocess for running PowerShell scripts"
   ]
  },
  {
   "cell_type": "markdown",
   "metadata": {},
   "source": [
    "# Define Personas\n",
    "Define a list of personas that will be used in the setup process."
   ]
  },
  {
   "cell_type": "code",
   "execution_count": null,
   "metadata": {
    "tags": [
     "parameters"
    ]
   },
   "outputs": [],
   "source": [
    "# Define Personas\n",
    "personas = [\"operator\", \"litware\", \"fabrikam\", \"contosso\", \"client\"]  # List of personas to be used in the setup process"
   ]
  },
  {
   "cell_type": "markdown",
   "metadata": {},
   "source": [
    "# Run Initialization Script for Each Persona\n",
    "Loop over each persona and run the start-environment.ps1 script using subprocess."
   ]
  },
  {
   "cell_type": "code",
   "execution_count": null,
   "metadata": {},
   "outputs": [],
   "source": [
    "# Run Initialization Script for Each Persona\n",
    "for persona in personas:\n",
    "    # Construct the command to run the PowerShell script with the persona as an argument\n",
    "    command = [\"pwsh\", \"start-environment.ps1\", \"-persona\", persona, \"-overwrite\"]\n",
    "    \n",
    "    # Run the command using subprocess\n",
    "    result = subprocess.run(command, capture_output=True, text=True)\n",
    "    \n",
    "    # Print the output and error (if any) for each persona\n",
    "    print(f\"Output for {persona}:\\n{result.stdout}\")\n",
    "    if result.stderr:\n",
    "        print(f\"Error for {persona}:\\n{result.stderr}\")"
   ]
  },
  {
   "cell_type": "markdown",
   "metadata": {},
   "source": [
    "# Verifying the setup\n",
    "Check that all the containers for each persona have come up correctly."
   ]
  },
  {
   "cell_type": "code",
   "execution_count": null,
   "metadata": {},
   "outputs": [],
   "source": [
    "# Function to verify if Docker containers are running\n",
    "def verify_docker_containers(persona: str):\n",
    "    # List of expected container names\n",
    "    expected_container = f\"azure-cleanroom-samples-shell-{persona}\"\n",
    "\n",
    "    # Get the list of running containers\n",
    "    result = subprocess.run([\"docker\", \"ps\", \"--format\", \"{{.Names}}\"], capture_output=True, text=True)\n",
    "    running_containers = result.stdout.splitlines()\n",
    "\n",
    "    # Check if all expected containers are running\n",
    "    for container in running_containers:\n",
    "        if container == expected_container:\n",
    "            print(f\"{container} is running.\")\n",
    "            return True\n",
    "\n",
    "    return False\n",
    "\n",
    "# Verify the Docker containers\n",
    "for persona in personas:\n",
    "    assert verify_docker_containers(persona)"
   ]
  }
 ],
 "metadata": {
  "kernelspec": {
   "display_name": "Python 3",
   "language": "python",
   "name": "python3"
  },
  "language_info": {
   "name": "python",
   "version": "3.11.9"
  }
 },
 "nbformat": 4,
 "nbformat_minor": 2
}
